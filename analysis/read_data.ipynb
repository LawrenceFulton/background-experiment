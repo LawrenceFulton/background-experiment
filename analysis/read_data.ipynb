{
 "cells": [
  {
   "cell_type": "code",
   "id": "6fc43429fbf68950",
   "metadata": {
    "ExecuteTime": {
     "end_time": "2024-09-11T07:53:50.771497Z",
     "start_time": "2024-09-11T07:53:50.766882Z"
    }
   },
   "source": [
    "import firebase_admin\n",
    "from firebase_admin import credentials, firestore\n",
    "import  pandas as pd\n",
    "import matplotlib.pyplot as plt\n",
    "import matplotlib.ticker as mtick\n",
    "import os"
   ],
   "outputs": [],
   "execution_count": 86
  },
  {
   "metadata": {
    "ExecuteTime": {
     "end_time": "2024-09-11T07:53:52.520876Z",
     "start_time": "2024-09-11T07:53:52.518385Z"
    }
   },
   "cell_type": "code",
   "source": "db_name = \"chat-changeSchool\"",
   "id": "ec65aa5082274893",
   "outputs": [],
   "execution_count": 87
  },
  {
   "metadata": {
    "collapsed": true,
    "ExecuteTime": {
     "end_time": "2024-09-11T07:53:54.068835Z",
     "start_time": "2024-09-11T07:53:53.906681Z"
    }
   },
   "cell_type": "code",
   "source": [
    "cred = credentials.Certificate(\"serviceAccountKey.json\")\n",
    "firebase_admin.initialize_app(cred)\n",
    "db = firestore.client()"
   ],
   "id": "initial_id",
   "outputs": [
    {
     "ename": "ValueError",
     "evalue": "The default Firebase app already exists. This means you called initialize_app() more than once without providing an app name as the second argument. In most cases you only need to call initialize_app() once. But if you do want to initialize multiple apps, pass a second argument to initialize_app() to give each app a unique name.",
     "output_type": "error",
     "traceback": [
      "\u001B[0;31m---------------------------------------------------------------------------\u001B[0m",
      "\u001B[0;31mValueError\u001B[0m                                Traceback (most recent call last)",
      "Cell \u001B[0;32mIn[88], line 2\u001B[0m\n\u001B[1;32m      1\u001B[0m cred \u001B[38;5;241m=\u001B[39m credentials\u001B[38;5;241m.\u001B[39mCertificate(\u001B[38;5;124m\"\u001B[39m\u001B[38;5;124mserviceAccountKey.json\u001B[39m\u001B[38;5;124m\"\u001B[39m)\n\u001B[0;32m----> 2\u001B[0m \u001B[43mfirebase_admin\u001B[49m\u001B[38;5;241;43m.\u001B[39;49m\u001B[43minitialize_app\u001B[49m\u001B[43m(\u001B[49m\u001B[43mcred\u001B[49m\u001B[43m)\u001B[49m\n\u001B[1;32m      3\u001B[0m db \u001B[38;5;241m=\u001B[39m firestore\u001B[38;5;241m.\u001B[39mclient()\n",
      "File \u001B[0;32m~/PycharmProjects/test1/venv/lib/python3.9/site-packages/firebase_admin/__init__.py:73\u001B[0m, in \u001B[0;36minitialize_app\u001B[0;34m(credential, options, name)\u001B[0m\n\u001B[1;32m     70\u001B[0m         \u001B[38;5;28;01mreturn\u001B[39;00m app\n\u001B[1;32m     72\u001B[0m \u001B[38;5;28;01mif\u001B[39;00m name \u001B[38;5;241m==\u001B[39m _DEFAULT_APP_NAME:\n\u001B[0;32m---> 73\u001B[0m     \u001B[38;5;28;01mraise\u001B[39;00m \u001B[38;5;167;01mValueError\u001B[39;00m((\n\u001B[1;32m     74\u001B[0m         \u001B[38;5;124m'\u001B[39m\u001B[38;5;124mThe default Firebase app already exists. This means you called \u001B[39m\u001B[38;5;124m'\u001B[39m\n\u001B[1;32m     75\u001B[0m         \u001B[38;5;124m'\u001B[39m\u001B[38;5;124minitialize_app() more than once without providing an app name as \u001B[39m\u001B[38;5;124m'\u001B[39m\n\u001B[1;32m     76\u001B[0m         \u001B[38;5;124m'\u001B[39m\u001B[38;5;124mthe second argument. In most cases you only need to call \u001B[39m\u001B[38;5;124m'\u001B[39m\n\u001B[1;32m     77\u001B[0m         \u001B[38;5;124m'\u001B[39m\u001B[38;5;124minitialize_app() once. But if you do want to initialize multiple \u001B[39m\u001B[38;5;124m'\u001B[39m\n\u001B[1;32m     78\u001B[0m         \u001B[38;5;124m'\u001B[39m\u001B[38;5;124mapps, pass a second argument to initialize_app() to give each app \u001B[39m\u001B[38;5;124m'\u001B[39m\n\u001B[1;32m     79\u001B[0m         \u001B[38;5;124m'\u001B[39m\u001B[38;5;124ma unique name.\u001B[39m\u001B[38;5;124m'\u001B[39m))\n\u001B[1;32m     81\u001B[0m \u001B[38;5;28;01mraise\u001B[39;00m \u001B[38;5;167;01mValueError\u001B[39;00m((\n\u001B[1;32m     82\u001B[0m     \u001B[38;5;124m'\u001B[39m\u001B[38;5;124mFirebase app named \u001B[39m\u001B[38;5;124m\"\u001B[39m\u001B[38;5;132;01m{0}\u001B[39;00m\u001B[38;5;124m\"\u001B[39m\u001B[38;5;124m already exists. This means you called \u001B[39m\u001B[38;5;124m'\u001B[39m\n\u001B[1;32m     83\u001B[0m     \u001B[38;5;124m'\u001B[39m\u001B[38;5;124minitialize_app() more than once with the same app name as the \u001B[39m\u001B[38;5;124m'\u001B[39m\n\u001B[1;32m     84\u001B[0m     \u001B[38;5;124m'\u001B[39m\u001B[38;5;124msecond argument. Make sure you provide a unique name every time \u001B[39m\u001B[38;5;124m'\u001B[39m\n\u001B[1;32m     85\u001B[0m     \u001B[38;5;124m'\u001B[39m\u001B[38;5;124myou call initialize_app().\u001B[39m\u001B[38;5;124m'\u001B[39m)\u001B[38;5;241m.\u001B[39mformat(name))\n",
      "\u001B[0;31mValueError\u001B[0m: The default Firebase app already exists. This means you called initialize_app() more than once without providing an app name as the second argument. In most cases you only need to call initialize_app() once. But if you do want to initialize multiple apps, pass a second argument to initialize_app() to give each app a unique name."
     ]
    }
   ],
   "execution_count": 88
  },
  {
   "metadata": {
    "ExecuteTime": {
     "end_time": "2024-09-11T07:58:08.995348Z",
     "start_time": "2024-09-11T07:58:08.106552Z"
    }
   },
   "cell_type": "code",
   "source": "chat = db.collection(db_name).get()\n",
   "id": "871020ed958573e6",
   "outputs": [],
   "execution_count": 90
  },
  {
   "metadata": {
    "ExecuteTime": {
     "end_time": "2024-09-11T07:58:10.701557Z",
     "start_time": "2024-09-11T07:58:10.659729Z"
    }
   },
   "cell_type": "code",
   "source": [
    "chat_list = []\n",
    "for doc in chat:\n",
    "    chat_list.append(doc.to_dict())\n",
    "chat_df = pd.DataFrame(chat_list)\n",
    "chat_df.head()\n",
    "\n",
    "\n"
   ],
   "id": "b145c8347016dd1e",
   "outputs": [
    {
     "data": {
      "text/plain": [
       "                                                   0          questionTitle  \\\n",
       "0  [{'questionID': 'p1', 'answerValue': 1}, {'que...                          \n",
       "1  [{'questionID': 'p1', 'answerValue': 1}, {'que...  Autoverbot an Schulen   \n",
       "2  [{'questionID': 'Ist der Verkehr an und zu dei...  Autoverbot an Schulen   \n",
       "3  [{'questionID': 'p1', 'answerValue': 2, 'quest...  Autoverbot an Schulen   \n",
       "4  [{'questionID': 'p1', 'answerValue': 4}, {'que...     Vegetarische Mensa   \n",
       "\n",
       "                                                   1  \\\n",
       "0  [{'questionID': 'p1', 'answerValue': 1}, {'que...   \n",
       "1  [{'questionID': 'p1', 'answerValue': 2}, {'que...   \n",
       "2  [{'questionID': 'Ist der Verkehr an und zu dei...   \n",
       "3  [{'questionID': 'p1', 'answerValue': 2, 'quest...   \n",
       "4  [{'questionID': 'p1', 'answerValue': 2}, {'que...   \n",
       "\n",
       "                                        questionText  \n",
       "0                                                NaN  \n",
       "1  Sollte das Fahren, Bringen und Abholen zu dein...  \n",
       "2  Sollte das Fahren, Bringen und Abholen zu dein...  \n",
       "3  Sollte das Fahren, Bringen und Abholen zu dein...  \n",
       "4                                                NaN  "
      ],
      "text/html": [
       "<div>\n",
       "<style scoped>\n",
       "    .dataframe tbody tr th:only-of-type {\n",
       "        vertical-align: middle;\n",
       "    }\n",
       "\n",
       "    .dataframe tbody tr th {\n",
       "        vertical-align: top;\n",
       "    }\n",
       "\n",
       "    .dataframe thead th {\n",
       "        text-align: right;\n",
       "    }\n",
       "</style>\n",
       "<table border=\"1\" class=\"dataframe\">\n",
       "  <thead>\n",
       "    <tr style=\"text-align: right;\">\n",
       "      <th></th>\n",
       "      <th>0</th>\n",
       "      <th>questionTitle</th>\n",
       "      <th>1</th>\n",
       "      <th>questionText</th>\n",
       "    </tr>\n",
       "  </thead>\n",
       "  <tbody>\n",
       "    <tr>\n",
       "      <th>0</th>\n",
       "      <td>[{'questionID': 'p1', 'answerValue': 1}, {'que...</td>\n",
       "      <td></td>\n",
       "      <td>[{'questionID': 'p1', 'answerValue': 1}, {'que...</td>\n",
       "      <td>NaN</td>\n",
       "    </tr>\n",
       "    <tr>\n",
       "      <th>1</th>\n",
       "      <td>[{'questionID': 'p1', 'answerValue': 1}, {'que...</td>\n",
       "      <td>Autoverbot an Schulen</td>\n",
       "      <td>[{'questionID': 'p1', 'answerValue': 2}, {'que...</td>\n",
       "      <td>Sollte das Fahren, Bringen und Abholen zu dein...</td>\n",
       "    </tr>\n",
       "    <tr>\n",
       "      <th>2</th>\n",
       "      <td>[{'questionID': 'Ist der Verkehr an und zu dei...</td>\n",
       "      <td>Autoverbot an Schulen</td>\n",
       "      <td>[{'questionID': 'Ist der Verkehr an und zu dei...</td>\n",
       "      <td>Sollte das Fahren, Bringen und Abholen zu dein...</td>\n",
       "    </tr>\n",
       "    <tr>\n",
       "      <th>3</th>\n",
       "      <td>[{'questionID': 'p1', 'answerValue': 2, 'quest...</td>\n",
       "      <td>Autoverbot an Schulen</td>\n",
       "      <td>[{'questionID': 'p1', 'answerValue': 2, 'quest...</td>\n",
       "      <td>Sollte das Fahren, Bringen und Abholen zu dein...</td>\n",
       "    </tr>\n",
       "    <tr>\n",
       "      <th>4</th>\n",
       "      <td>[{'questionID': 'p1', 'answerValue': 4}, {'que...</td>\n",
       "      <td>Vegetarische Mensa</td>\n",
       "      <td>[{'questionID': 'p1', 'answerValue': 2}, {'que...</td>\n",
       "      <td>NaN</td>\n",
       "    </tr>\n",
       "  </tbody>\n",
       "</table>\n",
       "</div>"
      ]
     },
     "execution_count": 91,
     "metadata": {},
     "output_type": "execute_result"
    }
   ],
   "execution_count": 91
  },
  {
   "metadata": {
    "ExecuteTime": {
     "end_time": "2024-09-11T07:16:04.306221Z",
     "start_time": "2024-09-11T07:16:04.298131Z"
    }
   },
   "cell_type": "code",
   "source": [
    "#remove columns with empty values\n",
    "chat_df = chat_df.dropna(subset=['1'])\n",
    "\n",
    "# sace the data to a csv file\n",
    "chat_df.to_csv(db_name + \".csv\", index=False)"
   ],
   "id": "21b82954b2badeeb",
   "outputs": [],
   "execution_count": 39
  },
  {
   "metadata": {
    "ExecuteTime": {
     "end_time": "2024-09-11T06:26:33.415189Z",
     "start_time": "2024-09-11T06:26:33.010776Z"
    }
   },
   "cell_type": "code",
   "source": "chat_df = pd.read_csv(db_name + \".csv\")",
   "id": "7eb76dd792f1f552",
   "outputs": [
    {
     "ename": "FileNotFoundError",
     "evalue": "[Errno 2] No such file or directory: 'chat.csv'",
     "output_type": "error",
     "traceback": [
      "\u001B[0;31m---------------------------------------------------------------------------\u001B[0m",
      "\u001B[0;31mFileNotFoundError\u001B[0m                         Traceback (most recent call last)",
      "Cell \u001B[0;32mIn[2], line 1\u001B[0m\n\u001B[0;32m----> 1\u001B[0m chat_df \u001B[38;5;241m=\u001B[39m \u001B[43mpd\u001B[49m\u001B[38;5;241;43m.\u001B[39;49m\u001B[43mread_csv\u001B[49m\u001B[43m(\u001B[49m\u001B[38;5;124;43m\"\u001B[39;49m\u001B[38;5;124;43mchat.csv\u001B[39;49m\u001B[38;5;124;43m\"\u001B[39;49m\u001B[43m)\u001B[49m\n",
      "File \u001B[0;32m~/PycharmProjects/test1/venv/lib/python3.9/site-packages/pandas/io/parsers/readers.py:1026\u001B[0m, in \u001B[0;36mread_csv\u001B[0;34m(filepath_or_buffer, sep, delimiter, header, names, index_col, usecols, dtype, engine, converters, true_values, false_values, skipinitialspace, skiprows, skipfooter, nrows, na_values, keep_default_na, na_filter, verbose, skip_blank_lines, parse_dates, infer_datetime_format, keep_date_col, date_parser, date_format, dayfirst, cache_dates, iterator, chunksize, compression, thousands, decimal, lineterminator, quotechar, quoting, doublequote, escapechar, comment, encoding, encoding_errors, dialect, on_bad_lines, delim_whitespace, low_memory, memory_map, float_precision, storage_options, dtype_backend)\u001B[0m\n\u001B[1;32m   1013\u001B[0m kwds_defaults \u001B[38;5;241m=\u001B[39m _refine_defaults_read(\n\u001B[1;32m   1014\u001B[0m     dialect,\n\u001B[1;32m   1015\u001B[0m     delimiter,\n\u001B[0;32m   (...)\u001B[0m\n\u001B[1;32m   1022\u001B[0m     dtype_backend\u001B[38;5;241m=\u001B[39mdtype_backend,\n\u001B[1;32m   1023\u001B[0m )\n\u001B[1;32m   1024\u001B[0m kwds\u001B[38;5;241m.\u001B[39mupdate(kwds_defaults)\n\u001B[0;32m-> 1026\u001B[0m \u001B[38;5;28;01mreturn\u001B[39;00m \u001B[43m_read\u001B[49m\u001B[43m(\u001B[49m\u001B[43mfilepath_or_buffer\u001B[49m\u001B[43m,\u001B[49m\u001B[43m \u001B[49m\u001B[43mkwds\u001B[49m\u001B[43m)\u001B[49m\n",
      "File \u001B[0;32m~/PycharmProjects/test1/venv/lib/python3.9/site-packages/pandas/io/parsers/readers.py:620\u001B[0m, in \u001B[0;36m_read\u001B[0;34m(filepath_or_buffer, kwds)\u001B[0m\n\u001B[1;32m    617\u001B[0m _validate_names(kwds\u001B[38;5;241m.\u001B[39mget(\u001B[38;5;124m\"\u001B[39m\u001B[38;5;124mnames\u001B[39m\u001B[38;5;124m\"\u001B[39m, \u001B[38;5;28;01mNone\u001B[39;00m))\n\u001B[1;32m    619\u001B[0m \u001B[38;5;66;03m# Create the parser.\u001B[39;00m\n\u001B[0;32m--> 620\u001B[0m parser \u001B[38;5;241m=\u001B[39m \u001B[43mTextFileReader\u001B[49m\u001B[43m(\u001B[49m\u001B[43mfilepath_or_buffer\u001B[49m\u001B[43m,\u001B[49m\u001B[43m \u001B[49m\u001B[38;5;241;43m*\u001B[39;49m\u001B[38;5;241;43m*\u001B[39;49m\u001B[43mkwds\u001B[49m\u001B[43m)\u001B[49m\n\u001B[1;32m    622\u001B[0m \u001B[38;5;28;01mif\u001B[39;00m chunksize \u001B[38;5;129;01mor\u001B[39;00m iterator:\n\u001B[1;32m    623\u001B[0m     \u001B[38;5;28;01mreturn\u001B[39;00m parser\n",
      "File \u001B[0;32m~/PycharmProjects/test1/venv/lib/python3.9/site-packages/pandas/io/parsers/readers.py:1620\u001B[0m, in \u001B[0;36mTextFileReader.__init__\u001B[0;34m(self, f, engine, **kwds)\u001B[0m\n\u001B[1;32m   1617\u001B[0m     \u001B[38;5;28mself\u001B[39m\u001B[38;5;241m.\u001B[39moptions[\u001B[38;5;124m\"\u001B[39m\u001B[38;5;124mhas_index_names\u001B[39m\u001B[38;5;124m\"\u001B[39m] \u001B[38;5;241m=\u001B[39m kwds[\u001B[38;5;124m\"\u001B[39m\u001B[38;5;124mhas_index_names\u001B[39m\u001B[38;5;124m\"\u001B[39m]\n\u001B[1;32m   1619\u001B[0m \u001B[38;5;28mself\u001B[39m\u001B[38;5;241m.\u001B[39mhandles: IOHandles \u001B[38;5;241m|\u001B[39m \u001B[38;5;28;01mNone\u001B[39;00m \u001B[38;5;241m=\u001B[39m \u001B[38;5;28;01mNone\u001B[39;00m\n\u001B[0;32m-> 1620\u001B[0m \u001B[38;5;28mself\u001B[39m\u001B[38;5;241m.\u001B[39m_engine \u001B[38;5;241m=\u001B[39m \u001B[38;5;28;43mself\u001B[39;49m\u001B[38;5;241;43m.\u001B[39;49m\u001B[43m_make_engine\u001B[49m\u001B[43m(\u001B[49m\u001B[43mf\u001B[49m\u001B[43m,\u001B[49m\u001B[43m \u001B[49m\u001B[38;5;28;43mself\u001B[39;49m\u001B[38;5;241;43m.\u001B[39;49m\u001B[43mengine\u001B[49m\u001B[43m)\u001B[49m\n",
      "File \u001B[0;32m~/PycharmProjects/test1/venv/lib/python3.9/site-packages/pandas/io/parsers/readers.py:1880\u001B[0m, in \u001B[0;36mTextFileReader._make_engine\u001B[0;34m(self, f, engine)\u001B[0m\n\u001B[1;32m   1878\u001B[0m     \u001B[38;5;28;01mif\u001B[39;00m \u001B[38;5;124m\"\u001B[39m\u001B[38;5;124mb\u001B[39m\u001B[38;5;124m\"\u001B[39m \u001B[38;5;129;01mnot\u001B[39;00m \u001B[38;5;129;01min\u001B[39;00m mode:\n\u001B[1;32m   1879\u001B[0m         mode \u001B[38;5;241m+\u001B[39m\u001B[38;5;241m=\u001B[39m \u001B[38;5;124m\"\u001B[39m\u001B[38;5;124mb\u001B[39m\u001B[38;5;124m\"\u001B[39m\n\u001B[0;32m-> 1880\u001B[0m \u001B[38;5;28mself\u001B[39m\u001B[38;5;241m.\u001B[39mhandles \u001B[38;5;241m=\u001B[39m \u001B[43mget_handle\u001B[49m\u001B[43m(\u001B[49m\n\u001B[1;32m   1881\u001B[0m \u001B[43m    \u001B[49m\u001B[43mf\u001B[49m\u001B[43m,\u001B[49m\n\u001B[1;32m   1882\u001B[0m \u001B[43m    \u001B[49m\u001B[43mmode\u001B[49m\u001B[43m,\u001B[49m\n\u001B[1;32m   1883\u001B[0m \u001B[43m    \u001B[49m\u001B[43mencoding\u001B[49m\u001B[38;5;241;43m=\u001B[39;49m\u001B[38;5;28;43mself\u001B[39;49m\u001B[38;5;241;43m.\u001B[39;49m\u001B[43moptions\u001B[49m\u001B[38;5;241;43m.\u001B[39;49m\u001B[43mget\u001B[49m\u001B[43m(\u001B[49m\u001B[38;5;124;43m\"\u001B[39;49m\u001B[38;5;124;43mencoding\u001B[39;49m\u001B[38;5;124;43m\"\u001B[39;49m\u001B[43m,\u001B[49m\u001B[43m \u001B[49m\u001B[38;5;28;43;01mNone\u001B[39;49;00m\u001B[43m)\u001B[49m\u001B[43m,\u001B[49m\n\u001B[1;32m   1884\u001B[0m \u001B[43m    \u001B[49m\u001B[43mcompression\u001B[49m\u001B[38;5;241;43m=\u001B[39;49m\u001B[38;5;28;43mself\u001B[39;49m\u001B[38;5;241;43m.\u001B[39;49m\u001B[43moptions\u001B[49m\u001B[38;5;241;43m.\u001B[39;49m\u001B[43mget\u001B[49m\u001B[43m(\u001B[49m\u001B[38;5;124;43m\"\u001B[39;49m\u001B[38;5;124;43mcompression\u001B[39;49m\u001B[38;5;124;43m\"\u001B[39;49m\u001B[43m,\u001B[49m\u001B[43m \u001B[49m\u001B[38;5;28;43;01mNone\u001B[39;49;00m\u001B[43m)\u001B[49m\u001B[43m,\u001B[49m\n\u001B[1;32m   1885\u001B[0m \u001B[43m    \u001B[49m\u001B[43mmemory_map\u001B[49m\u001B[38;5;241;43m=\u001B[39;49m\u001B[38;5;28;43mself\u001B[39;49m\u001B[38;5;241;43m.\u001B[39;49m\u001B[43moptions\u001B[49m\u001B[38;5;241;43m.\u001B[39;49m\u001B[43mget\u001B[49m\u001B[43m(\u001B[49m\u001B[38;5;124;43m\"\u001B[39;49m\u001B[38;5;124;43mmemory_map\u001B[39;49m\u001B[38;5;124;43m\"\u001B[39;49m\u001B[43m,\u001B[49m\u001B[43m \u001B[49m\u001B[38;5;28;43;01mFalse\u001B[39;49;00m\u001B[43m)\u001B[49m\u001B[43m,\u001B[49m\n\u001B[1;32m   1886\u001B[0m \u001B[43m    \u001B[49m\u001B[43mis_text\u001B[49m\u001B[38;5;241;43m=\u001B[39;49m\u001B[43mis_text\u001B[49m\u001B[43m,\u001B[49m\n\u001B[1;32m   1887\u001B[0m \u001B[43m    \u001B[49m\u001B[43merrors\u001B[49m\u001B[38;5;241;43m=\u001B[39;49m\u001B[38;5;28;43mself\u001B[39;49m\u001B[38;5;241;43m.\u001B[39;49m\u001B[43moptions\u001B[49m\u001B[38;5;241;43m.\u001B[39;49m\u001B[43mget\u001B[49m\u001B[43m(\u001B[49m\u001B[38;5;124;43m\"\u001B[39;49m\u001B[38;5;124;43mencoding_errors\u001B[39;49m\u001B[38;5;124;43m\"\u001B[39;49m\u001B[43m,\u001B[49m\u001B[43m \u001B[49m\u001B[38;5;124;43m\"\u001B[39;49m\u001B[38;5;124;43mstrict\u001B[39;49m\u001B[38;5;124;43m\"\u001B[39;49m\u001B[43m)\u001B[49m\u001B[43m,\u001B[49m\n\u001B[1;32m   1888\u001B[0m \u001B[43m    \u001B[49m\u001B[43mstorage_options\u001B[49m\u001B[38;5;241;43m=\u001B[39;49m\u001B[38;5;28;43mself\u001B[39;49m\u001B[38;5;241;43m.\u001B[39;49m\u001B[43moptions\u001B[49m\u001B[38;5;241;43m.\u001B[39;49m\u001B[43mget\u001B[49m\u001B[43m(\u001B[49m\u001B[38;5;124;43m\"\u001B[39;49m\u001B[38;5;124;43mstorage_options\u001B[39;49m\u001B[38;5;124;43m\"\u001B[39;49m\u001B[43m,\u001B[49m\u001B[43m \u001B[49m\u001B[38;5;28;43;01mNone\u001B[39;49;00m\u001B[43m)\u001B[49m\u001B[43m,\u001B[49m\n\u001B[1;32m   1889\u001B[0m \u001B[43m\u001B[49m\u001B[43m)\u001B[49m\n\u001B[1;32m   1890\u001B[0m \u001B[38;5;28;01massert\u001B[39;00m \u001B[38;5;28mself\u001B[39m\u001B[38;5;241m.\u001B[39mhandles \u001B[38;5;129;01mis\u001B[39;00m \u001B[38;5;129;01mnot\u001B[39;00m \u001B[38;5;28;01mNone\u001B[39;00m\n\u001B[1;32m   1891\u001B[0m f \u001B[38;5;241m=\u001B[39m \u001B[38;5;28mself\u001B[39m\u001B[38;5;241m.\u001B[39mhandles\u001B[38;5;241m.\u001B[39mhandle\n",
      "File \u001B[0;32m~/PycharmProjects/test1/venv/lib/python3.9/site-packages/pandas/io/common.py:873\u001B[0m, in \u001B[0;36mget_handle\u001B[0;34m(path_or_buf, mode, encoding, compression, memory_map, is_text, errors, storage_options)\u001B[0m\n\u001B[1;32m    868\u001B[0m \u001B[38;5;28;01melif\u001B[39;00m \u001B[38;5;28misinstance\u001B[39m(handle, \u001B[38;5;28mstr\u001B[39m):\n\u001B[1;32m    869\u001B[0m     \u001B[38;5;66;03m# Check whether the filename is to be opened in binary mode.\u001B[39;00m\n\u001B[1;32m    870\u001B[0m     \u001B[38;5;66;03m# Binary mode does not support 'encoding' and 'newline'.\u001B[39;00m\n\u001B[1;32m    871\u001B[0m     \u001B[38;5;28;01mif\u001B[39;00m ioargs\u001B[38;5;241m.\u001B[39mencoding \u001B[38;5;129;01mand\u001B[39;00m \u001B[38;5;124m\"\u001B[39m\u001B[38;5;124mb\u001B[39m\u001B[38;5;124m\"\u001B[39m \u001B[38;5;129;01mnot\u001B[39;00m \u001B[38;5;129;01min\u001B[39;00m ioargs\u001B[38;5;241m.\u001B[39mmode:\n\u001B[1;32m    872\u001B[0m         \u001B[38;5;66;03m# Encoding\u001B[39;00m\n\u001B[0;32m--> 873\u001B[0m         handle \u001B[38;5;241m=\u001B[39m \u001B[38;5;28;43mopen\u001B[39;49m\u001B[43m(\u001B[49m\n\u001B[1;32m    874\u001B[0m \u001B[43m            \u001B[49m\u001B[43mhandle\u001B[49m\u001B[43m,\u001B[49m\n\u001B[1;32m    875\u001B[0m \u001B[43m            \u001B[49m\u001B[43mioargs\u001B[49m\u001B[38;5;241;43m.\u001B[39;49m\u001B[43mmode\u001B[49m\u001B[43m,\u001B[49m\n\u001B[1;32m    876\u001B[0m \u001B[43m            \u001B[49m\u001B[43mencoding\u001B[49m\u001B[38;5;241;43m=\u001B[39;49m\u001B[43mioargs\u001B[49m\u001B[38;5;241;43m.\u001B[39;49m\u001B[43mencoding\u001B[49m\u001B[43m,\u001B[49m\n\u001B[1;32m    877\u001B[0m \u001B[43m            \u001B[49m\u001B[43merrors\u001B[49m\u001B[38;5;241;43m=\u001B[39;49m\u001B[43merrors\u001B[49m\u001B[43m,\u001B[49m\n\u001B[1;32m    878\u001B[0m \u001B[43m            \u001B[49m\u001B[43mnewline\u001B[49m\u001B[38;5;241;43m=\u001B[39;49m\u001B[38;5;124;43m\"\u001B[39;49m\u001B[38;5;124;43m\"\u001B[39;49m\u001B[43m,\u001B[49m\n\u001B[1;32m    879\u001B[0m \u001B[43m        \u001B[49m\u001B[43m)\u001B[49m\n\u001B[1;32m    880\u001B[0m     \u001B[38;5;28;01melse\u001B[39;00m:\n\u001B[1;32m    881\u001B[0m         \u001B[38;5;66;03m# Binary mode\u001B[39;00m\n\u001B[1;32m    882\u001B[0m         handle \u001B[38;5;241m=\u001B[39m \u001B[38;5;28mopen\u001B[39m(handle, ioargs\u001B[38;5;241m.\u001B[39mmode)\n",
      "\u001B[0;31mFileNotFoundError\u001B[0m: [Errno 2] No such file or directory: 'chat.csv'"
     ]
    }
   ],
   "execution_count": 2
  },
  {
   "metadata": {
    "ExecuteTime": {
     "end_time": "2024-09-11T07:16:09.230678Z",
     "start_time": "2024-09-11T07:16:09.226830Z"
    }
   },
   "cell_type": "code",
   "source": [
    "def flatten_json_column(json_list, prefix):\n",
    "    # Initialize an empty dictionary\n",
    "    flattened_dict = {}\n",
    "\n",
    "    # Iterate over each item in the list\n",
    "    for item in json_list:\n",
    "        # Extract questionID and answerValue and add to the dictionary with prefix\n",
    "        flattened_dict[f\"{prefix}_{item['questionID']}\"] = item['answerValue']\n",
    "\n",
    "    # Convert the dictionary to a pd.Series and return it\n",
    "    return pd.Series(flattened_dict)"
   ],
   "id": "f46600e47e2b09b3",
   "outputs": [],
   "execution_count": 40
  },
  {
   "metadata": {
    "ExecuteTime": {
     "end_time": "2024-09-11T08:06:27.010917Z",
     "start_time": "2024-09-11T08:06:27.008476Z"
    }
   },
   "cell_type": "code",
   "source": [
    "def get_premises(json_list, prefix):\n",
    "    _premises = {}\n",
    "    for item in json_list:\n",
    "        try:\n",
    "            _premises[f\"{prefix}_premise_{item['questionID']}\"] = item['questionText']\n",
    "        except KeyError: \n",
    "            # add nan\n",
    "            _premises[f\"{prefix}_premise_{item['questionID']}\"] = None \n",
    "        \n",
    "    return  pd.Series(_premises)"
   ],
   "id": "c30abb405cb6f2ce",
   "outputs": [],
   "execution_count": 101
  },
  {
   "metadata": {
    "ExecuteTime": {
     "end_time": "2024-09-11T08:06:27.830152Z",
     "start_time": "2024-09-11T08:06:27.789361Z"
    }
   },
   "cell_type": "code",
   "source": [
    "flattened_0 = chat_df['0'].apply(flatten_json_column, prefix='0')\n",
    "flattened_1 = chat_df['1'].apply(flatten_json_column, prefix='1')\n",
    "premises_0 = chat_df['0'].apply(get_premises, prefix='0')\n",
    "premises_1 = chat_df['1'].apply(get_premises, prefix='1')\n",
    "\n",
    "\n",
    "# # Concatenate the flattened columns with the original DataFrame\n",
    "df_flattened = pd.concat([chat_df.drop(columns=['0', '1']), flattened_0, flattened_1, premises_0, premises_1], axis=1)\n",
    "df_flattened.head()"
   ],
   "id": "65f4b54c7b60b3f2",
   "outputs": [
    {
     "data": {
      "text/plain": [
       "           questionTitle                                       questionText  \\\n",
       "0                                                                       NaN   \n",
       "1  Autoverbot an Schulen  Sollte das Fahren, Bringen und Abholen zu dein...   \n",
       "2  Autoverbot an Schulen  Sollte das Fahren, Bringen und Abholen zu dein...   \n",
       "3  Autoverbot an Schulen  Sollte das Fahren, Bringen und Abholen zu dein...   \n",
       "4     Vegetarische Mensa                                                NaN   \n",
       "\n",
       "   0_p1  0_p2  0_p3  0_p4  0_p5  0_p6  0_p7  0_q0  ...  \\\n",
       "0   1.0   1.0   1.0   1.0   1.0   1.0   1.0   1.0  ...   \n",
       "1   1.0   2.0   1.0   2.0   NaN   NaN   NaN   1.0  ...   \n",
       "2   NaN   NaN   NaN   NaN   NaN   NaN   NaN   1.0  ...   \n",
       "3   2.0   3.0   4.0   3.0   NaN   NaN   NaN   1.0  ...   \n",
       "4   4.0   3.0   2.0   1.0   1.0   NaN   NaN   5.0  ...   \n",
       "\n",
       "                                        1_premise_p3  \\\n",
       "0                                               None   \n",
       "1                                               None   \n",
       "2                                                NaN   \n",
       "3  Sollte das Verbot eingeführt werden, wenn alle...   \n",
       "4                                               None   \n",
       "\n",
       "                                        1_premise_p4  1_premise_p5  \\\n",
       "0                                               None           NaN   \n",
       "1                                               None           NaN   \n",
       "2                                                NaN           NaN   \n",
       "3  Ist es eher individuelle, persönliche Verantwo...           NaN   \n",
       "4                                               None           NaN   \n",
       "\n",
       "   1_premise_p6  1_premise_p7  1_premise_q0  \\\n",
       "0           NaN           NaN          None   \n",
       "1           NaN           NaN          None   \n",
       "2           NaN           NaN          None   \n",
       "3           NaN           NaN                 \n",
       "4           NaN           NaN          None   \n",
       "\n",
       "   1_premise_Ist der Verkehr an und zu deiner Schule ein Problem?  \\\n",
       "0                                                NaN                \n",
       "1                                                NaN                \n",
       "2                                                NaN                \n",
       "3                                                NaN                \n",
       "4                                                NaN                \n",
       "\n",
       "   1_premise_Glaubst du, dass alle eine gute Alternative zur Verfügung hätten?  \\\n",
       "0                                                NaN                             \n",
       "1                                                NaN                             \n",
       "2                                                NaN                             \n",
       "3                                                NaN                             \n",
       "4                                                NaN                             \n",
       "\n",
       "   1_premise_Sollte das Verbot eingeführt werden, wenn alle eine gute Alternative zur Verfügung hätten?  \\\n",
       "0                                                NaN                                                      \n",
       "1                                                NaN                                                      \n",
       "2                                                NaN                                                      \n",
       "3                                                NaN                                                      \n",
       "4                                                NaN                                                      \n",
       "\n",
       "   1_premise_Ist es eher individuelle, persönliche Verantwortung oder gesellschaftliche Verantwortung, mehr gegen den Klimawandel zu tun?  \n",
       "0                                                NaN                                                                                       \n",
       "1                                                NaN                                                                                       \n",
       "2                                                NaN                                                                                       \n",
       "3                                                NaN                                                                                       \n",
       "4                                                NaN                                                                                       \n",
       "\n",
       "[5 rows x 50 columns]"
      ],
      "text/html": [
       "<div>\n",
       "<style scoped>\n",
       "    .dataframe tbody tr th:only-of-type {\n",
       "        vertical-align: middle;\n",
       "    }\n",
       "\n",
       "    .dataframe tbody tr th {\n",
       "        vertical-align: top;\n",
       "    }\n",
       "\n",
       "    .dataframe thead th {\n",
       "        text-align: right;\n",
       "    }\n",
       "</style>\n",
       "<table border=\"1\" class=\"dataframe\">\n",
       "  <thead>\n",
       "    <tr style=\"text-align: right;\">\n",
       "      <th></th>\n",
       "      <th>questionTitle</th>\n",
       "      <th>questionText</th>\n",
       "      <th>0_p1</th>\n",
       "      <th>0_p2</th>\n",
       "      <th>0_p3</th>\n",
       "      <th>0_p4</th>\n",
       "      <th>0_p5</th>\n",
       "      <th>0_p6</th>\n",
       "      <th>0_p7</th>\n",
       "      <th>0_q0</th>\n",
       "      <th>...</th>\n",
       "      <th>1_premise_p3</th>\n",
       "      <th>1_premise_p4</th>\n",
       "      <th>1_premise_p5</th>\n",
       "      <th>1_premise_p6</th>\n",
       "      <th>1_premise_p7</th>\n",
       "      <th>1_premise_q0</th>\n",
       "      <th>1_premise_Ist der Verkehr an und zu deiner Schule ein Problem?</th>\n",
       "      <th>1_premise_Glaubst du, dass alle eine gute Alternative zur Verfügung hätten?</th>\n",
       "      <th>1_premise_Sollte das Verbot eingeführt werden, wenn alle eine gute Alternative zur Verfügung hätten?</th>\n",
       "      <th>1_premise_Ist es eher individuelle, persönliche Verantwortung oder gesellschaftliche Verantwortung, mehr gegen den Klimawandel zu tun?</th>\n",
       "    </tr>\n",
       "  </thead>\n",
       "  <tbody>\n",
       "    <tr>\n",
       "      <th>0</th>\n",
       "      <td></td>\n",
       "      <td>NaN</td>\n",
       "      <td>1.0</td>\n",
       "      <td>1.0</td>\n",
       "      <td>1.0</td>\n",
       "      <td>1.0</td>\n",
       "      <td>1.0</td>\n",
       "      <td>1.0</td>\n",
       "      <td>1.0</td>\n",
       "      <td>1.0</td>\n",
       "      <td>...</td>\n",
       "      <td>None</td>\n",
       "      <td>None</td>\n",
       "      <td>NaN</td>\n",
       "      <td>NaN</td>\n",
       "      <td>NaN</td>\n",
       "      <td>None</td>\n",
       "      <td>NaN</td>\n",
       "      <td>NaN</td>\n",
       "      <td>NaN</td>\n",
       "      <td>NaN</td>\n",
       "    </tr>\n",
       "    <tr>\n",
       "      <th>1</th>\n",
       "      <td>Autoverbot an Schulen</td>\n",
       "      <td>Sollte das Fahren, Bringen und Abholen zu dein...</td>\n",
       "      <td>1.0</td>\n",
       "      <td>2.0</td>\n",
       "      <td>1.0</td>\n",
       "      <td>2.0</td>\n",
       "      <td>NaN</td>\n",
       "      <td>NaN</td>\n",
       "      <td>NaN</td>\n",
       "      <td>1.0</td>\n",
       "      <td>...</td>\n",
       "      <td>None</td>\n",
       "      <td>None</td>\n",
       "      <td>NaN</td>\n",
       "      <td>NaN</td>\n",
       "      <td>NaN</td>\n",
       "      <td>None</td>\n",
       "      <td>NaN</td>\n",
       "      <td>NaN</td>\n",
       "      <td>NaN</td>\n",
       "      <td>NaN</td>\n",
       "    </tr>\n",
       "    <tr>\n",
       "      <th>2</th>\n",
       "      <td>Autoverbot an Schulen</td>\n",
       "      <td>Sollte das Fahren, Bringen und Abholen zu dein...</td>\n",
       "      <td>NaN</td>\n",
       "      <td>NaN</td>\n",
       "      <td>NaN</td>\n",
       "      <td>NaN</td>\n",
       "      <td>NaN</td>\n",
       "      <td>NaN</td>\n",
       "      <td>NaN</td>\n",
       "      <td>1.0</td>\n",
       "      <td>...</td>\n",
       "      <td>NaN</td>\n",
       "      <td>NaN</td>\n",
       "      <td>NaN</td>\n",
       "      <td>NaN</td>\n",
       "      <td>NaN</td>\n",
       "      <td>None</td>\n",
       "      <td>NaN</td>\n",
       "      <td>NaN</td>\n",
       "      <td>NaN</td>\n",
       "      <td>NaN</td>\n",
       "    </tr>\n",
       "    <tr>\n",
       "      <th>3</th>\n",
       "      <td>Autoverbot an Schulen</td>\n",
       "      <td>Sollte das Fahren, Bringen und Abholen zu dein...</td>\n",
       "      <td>2.0</td>\n",
       "      <td>3.0</td>\n",
       "      <td>4.0</td>\n",
       "      <td>3.0</td>\n",
       "      <td>NaN</td>\n",
       "      <td>NaN</td>\n",
       "      <td>NaN</td>\n",
       "      <td>1.0</td>\n",
       "      <td>...</td>\n",
       "      <td>Sollte das Verbot eingeführt werden, wenn alle...</td>\n",
       "      <td>Ist es eher individuelle, persönliche Verantwo...</td>\n",
       "      <td>NaN</td>\n",
       "      <td>NaN</td>\n",
       "      <td>NaN</td>\n",
       "      <td></td>\n",
       "      <td>NaN</td>\n",
       "      <td>NaN</td>\n",
       "      <td>NaN</td>\n",
       "      <td>NaN</td>\n",
       "    </tr>\n",
       "    <tr>\n",
       "      <th>4</th>\n",
       "      <td>Vegetarische Mensa</td>\n",
       "      <td>NaN</td>\n",
       "      <td>4.0</td>\n",
       "      <td>3.0</td>\n",
       "      <td>2.0</td>\n",
       "      <td>1.0</td>\n",
       "      <td>1.0</td>\n",
       "      <td>NaN</td>\n",
       "      <td>NaN</td>\n",
       "      <td>5.0</td>\n",
       "      <td>...</td>\n",
       "      <td>None</td>\n",
       "      <td>None</td>\n",
       "      <td>NaN</td>\n",
       "      <td>NaN</td>\n",
       "      <td>NaN</td>\n",
       "      <td>None</td>\n",
       "      <td>NaN</td>\n",
       "      <td>NaN</td>\n",
       "      <td>NaN</td>\n",
       "      <td>NaN</td>\n",
       "    </tr>\n",
       "  </tbody>\n",
       "</table>\n",
       "<p>5 rows × 50 columns</p>\n",
       "</div>"
      ]
     },
     "execution_count": 102,
     "metadata": {},
     "output_type": "execute_result"
    }
   ],
   "execution_count": 102
  },
  {
   "metadata": {
    "ExecuteTime": {
     "end_time": "2024-09-11T07:41:53.394848Z",
     "start_time": "2024-09-11T07:41:53.382821Z"
    }
   },
   "cell_type": "code",
   "source": [
    "def plot_all_distributions(df):\n",
    "    # Get all unique question titles\n",
    "    question_titles = df['questionTitle'].unique()\n",
    "\n",
    "    response_mapping = {\n",
    "        0: 'Nein',\n",
    "        1: 'Eher Nein',\n",
    "        2: 'Neutral',\n",
    "        3: 'Eher Ja',\n",
    "        4: 'Ja'\n",
    "    }\n",
    "    \n",
    "    axis_mapping = {\n",
    "        'Mitbestimmung der Schüler*innen': 'Sollte an deiner Schule über ein Teil des Schuldbudgets ausschließlich von Schüler*innen entschieden werden?',\n",
    "        'Nachhaltigkeit im Unterricht': 'Sollten in allen Fächern, sofern inhaltlich möglich, die Fachinhalte aus der Perspektive der Nachhaltigkeit reflektiert werden?',\n",
    "        'Vegetarische Mensa': 'Sollte es nur noch vegetarisches Essen in deiner Schule geben?',\n",
    "        'Autoverbot an Schulen': 'Sollte das Fahren, Bringen und Abholen zu deiner Schule mit dem \\n Auto für alle verboten werden?'\n",
    "    }\n",
    "    \n",
    "    # check if dir figures exists and if not create it \n",
    "    if not os.path.exists('figures'):\n",
    "        os.makedirs('figures')\n",
    "    \n",
    "\n",
    "\n",
    "# Loop through each unique question title\n",
    "    for question_title in question_titles:\n",
    "        # Filter the DataFrame for the selected question title\n",
    "        filtered_df = df.where(df['questionTitle'] == question_title)\n",
    "\n",
    "        # Concatenate relevant columns\n",
    "        responses = pd.concat([filtered_df['0_p1'], filtered_df['1_p1']])\n",
    "\n",
    "        # Clean up the data\n",
    "        responses = responses.dropna().astype(int)\n",
    "\n",
    "        # Define the full range of response values (1 to 5 in this case)\n",
    "        full_range = pd.Series(['Nein', 'Eher Nein', 'Neutral', 'Eher Ja', 'Ja'])\n",
    "\n",
    "        # Map numeric values to categorical responses\n",
    "        mapped_responses = responses.map(response_mapping)\n",
    "\n",
    "        # Sort and count values, then reindex to fill missing values with 0\n",
    "        hist = mapped_responses.value_counts().reindex(full_range, fill_value=0)        \n",
    "        \n",
    "        # Plot the distribution\n",
    "        plt.figure(figsize=(10, 6))\n",
    "        hist.plot(kind='bar')\n",
    "\n",
    "\n",
    "        plt.gca().yaxis.set_major_formatter(mtick.ScalarFormatter())\n",
    "        plt.gca().yaxis.set_major_locator(mtick.MaxNLocator(integer=True))\n",
    "        \n",
    "        # Add a title dynamically\n",
    "        # plt.xlabel('Antwort', fontsize=14)\n",
    "        plt.ylabel('Anzahl der Meinungen', fontsize=14)\n",
    "        plt.xticks(rotation=0)\n",
    "        try:\n",
    "            plt.title(axis_mapping[question_title], fontsize=16)\n",
    "        except KeyError:\n",
    "            plt.title(f'Verteilung bei der {question_title} Frage', fontsize=14)\n",
    "            pass   \n",
    "            \n",
    "\n",
    "        \n",
    "        # save\n",
    "        plt.savefig(f'figures/{question_title}.png', dpi= 300)\n",
    "        # plt.show() \n",
    "    "
   ],
   "id": "40899499c34c2b89",
   "outputs": [],
   "execution_count": 82
  },
  {
   "metadata": {
    "ExecuteTime": {
     "end_time": "2024-09-11T07:43:04.755239Z",
     "start_time": "2024-09-11T07:43:03.686013Z"
    }
   },
   "cell_type": "code",
   "source": "plot_all_distributions(df_flattened)",
   "id": "77db168dab267686",
   "outputs": [
    {
     "data": {
      "text/plain": [
       "<Figure size 1000x600 with 1 Axes>"
      ],
      "image/png": "[encoded data removed]"
     },
     "metadata": {},
     "output_type": "display_data"
    },
    {
     "data": {
      "text/plain": [
       "<Figure size 1000x600 with 1 Axes>"
      ],
      "image/png": "[encoded data removed]"
     },
     "metadata": {},
     "output_type": "display_data"
    },
    {
     "data": {
      "text/plain": [
       "<Figure size 1000x600 with 1 Axes>"
      ],
      "image/png": "[encoded data removed]"
     },
     "metadata": {},
     "output_type": "display_data"
    }
   ],
   "execution_count": 85
  },
  {
   "metadata": {},
   "cell_type": "code",
   "outputs": [],
   "execution_count": null,
   "source": "",
   "id": "f6e2fcd93c289d7a"
  }
 ],
 "metadata": {
  "kernelspec": {
   "display_name": "Python 3",
   "language": "python",
   "name": "python3"
  },
  "language_info": {
   "codemirror_mode": {
    "name": "ipython",
    "version": 2
   },
   "file_extension": ".py",
   "mimetype": "text/x-python",
   "name": "python",
   "nbconvert_exporter": "python",
   "pygments_lexer": "ipython2",
   "version": "2.7.6"
  }
 },
 "nbformat": 4,
 "nbformat_minor": 5
}
